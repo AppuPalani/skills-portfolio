{
 "cells": [
  {
   "cell_type": "code",
   "execution_count": 9,
   "id": "cfc11c29-f082-46fb-b611-f59a4cc01866",
   "metadata": {},
   "outputs": [
    {
     "name": "stdout",
     "output_type": "stream",
     "text": [
      "   calories  duration\n",
      "0       420        50\n",
      "1       280        40\n",
      "2       390        45\n"
     ]
    }
   ],
   "source": [
    "import pandas as pd\n",
    "data = {\n",
    "  \"calories\": [420, 280 , 390],\n",
    "  \"duration\": [50, 40, 45]\n",
    "}\n",
    "\n",
    "#load data into a DataFrame object:\n",
    "df = pd.DataFrame(data)\n",
    "\n",
    "print(df) "
   ]
  },
  {
   "cell_type": "code",
   "execution_count": 11,
   "id": "f60ef5c7-e8a7-4767-a2c6-b45e93aa2ce4",
   "metadata": {},
   "outputs": [
    {
     "data": {
      "text/html": [
       "<div>\n",
       "<style scoped>\n",
       "    .dataframe tbody tr th:only-of-type {\n",
       "        vertical-align: middle;\n",
       "    }\n",
       "\n",
       "    .dataframe tbody tr th {\n",
       "        vertical-align: top;\n",
       "    }\n",
       "\n",
       "    .dataframe thead th {\n",
       "        text-align: right;\n",
       "    }\n",
       "</style>\n",
       "<table border=\"1\" class=\"dataframe\">\n",
       "  <thead>\n",
       "    <tr style=\"text-align: right;\">\n",
       "      <th></th>\n",
       "      <th>calories</th>\n",
       "      <th>duration</th>\n",
       "    </tr>\n",
       "  </thead>\n",
       "  <tbody>\n",
       "    <tr>\n",
       "      <th>0</th>\n",
       "      <td>280</td>\n",
       "      <td>40</td>\n",
       "    </tr>\n",
       "    <tr>\n",
       "      <th>1</th>\n",
       "      <td>390</td>\n",
       "      <td>45</td>\n",
       "    </tr>\n",
       "    <tr>\n",
       "      <th>2</th>\n",
       "      <td>420</td>\n",
       "      <td>50</td>\n",
       "    </tr>\n",
       "  </tbody>\n",
       "</table>\n",
       "</div>"
      ],
      "text/plain": [
       "   calories  duration\n",
       "0       280        40\n",
       "1       390        45\n",
       "2       420        50"
      ]
     },
     "execution_count": 11,
     "metadata": {},
     "output_type": "execute_result"
    }
   ],
   "source": [
    "df.mode()"
   ]
  },
  {
   "cell_type": "code",
   "execution_count": 45,
   "id": "16fe76d1-a351-48fa-acab-5489bcd44db9",
   "metadata": {},
   "outputs": [
    {
     "name": "stdout",
     "output_type": "stream",
     "text": [
      "After replacing null, verified Missing Values count in the dataset:  CustomerID         0\n",
      "Age                0\n",
      "Gender             0\n",
      "Tenure             0\n",
      "MonthlyCharges     0\n",
      "ContractType       0\n",
      "InternetService    0\n",
      "TotalCharges       0\n",
      "TechSupport        0\n",
      "Churn              0\n",
      "dtype: int64\n",
      "     Age  Normalized Age\n",
      "0     49        0.521127\n",
      "1     43        0.436620\n",
      "2     51        0.549296\n",
      "3     60        0.676056\n",
      "4     42        0.422535\n",
      "..   ...             ...\n",
      "995   42        0.422535\n",
      "996   62        0.704225\n",
      "997   51        0.549296\n",
      "998   39        0.380282\n",
      "999   50        0.535211\n",
      "\n",
      "[1000 rows x 2 columns]\n"
     ]
    }
   ],
   "source": [
    "import pandas as pd\n",
    "\n",
    "df= pd.read_csv('customer_churn_data.csv')\n",
    "#print(df)\n",
    "\n",
    "count_MissingValue = df.isnull().sum()\n",
    "#print(\"Missing Values in the dataset: \", count_MissingValue)\n",
    "\n",
    "newdf = df.fillna('NA')\n",
    "\n",
    "count_MissingValue_afterNA = newdf.isnull().sum()\n",
    "print(\"After replacing null, verified Missing Values count in the dataset: \", count_MissingValue_afterNA)\n",
    "\n",
    "df_cleaned = newdf.drop_duplicates()\n",
    "#print(\"Before removing duplicates, DF has rows: \", len(newdf))\n",
    "#print(\"After removing duplicates, DF has rows: \", len(df_cleaned))\n",
    "\n",
    "min_age = df_cleaned['Age'].min()\n",
    "max_age = df_cleaned['Age'].max()\n",
    "\n",
    "df_cleaned['Normalized Age'] = (df_cleaned['Age']-min_age) / (max_age - min_age)\n",
    "\n",
    "print(df_cleaned[['Age', 'Normalized Age']])"
   ]
  },
  {
   "cell_type": "code",
   "execution_count": null,
   "id": "091ea608-5c91-401b-b735-b1eabcf12c6c",
   "metadata": {},
   "outputs": [],
   "source": []
  }
 ],
 "metadata": {
  "kernelspec": {
   "display_name": "Python 3 (ipykernel)",
   "language": "python",
   "name": "python3"
  },
  "language_info": {
   "codemirror_mode": {
    "name": "ipython",
    "version": 3
   },
   "file_extension": ".py",
   "mimetype": "text/x-python",
   "name": "python",
   "nbconvert_exporter": "python",
   "pygments_lexer": "ipython3",
   "version": "3.12.7"
  }
 },
 "nbformat": 4,
 "nbformat_minor": 5
}
