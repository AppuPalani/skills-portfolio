{
 "cells": [
  {
   "cell_type": "code",
   "execution_count": 1,
   "id": "c9abaf29-e722-4c57-ba7d-fc6ee27139af",
   "metadata": {},
   "outputs": [],
   "source": [
    "# Step 1: Import necessary libraries\n",
    "import pandas as pd\n",
    "import numpy as np\n",
    "import matplotlib.pyplot as plt\n",
    "import seaborn as sns\n",
    "\n",
    "from sklearn.model_selection import train_test_split\n",
    "from sklearn.impute import SimpleImputer\n",
    "from sklearn.linear_model import LogisticRegression\n",
    "from sklearn.metrics import classification_report, confusion_matrix"
   ]
  },
  {
   "cell_type": "code",
   "execution_count": 5,
   "id": "d84f4489-b280-4c45-9125-509be64d51f9",
   "metadata": {},
   "outputs": [
    {
     "data": {
      "text/html": [
       "<div>\n",
       "<style scoped>\n",
       "    .dataframe tbody tr th:only-of-type {\n",
       "        vertical-align: middle;\n",
       "    }\n",
       "\n",
       "    .dataframe tbody tr th {\n",
       "        vertical-align: top;\n",
       "    }\n",
       "\n",
       "    .dataframe thead th {\n",
       "        text-align: right;\n",
       "    }\n",
       "</style>\n",
       "<table border=\"1\" class=\"dataframe\">\n",
       "  <thead>\n",
       "    <tr style=\"text-align: right;\">\n",
       "      <th></th>\n",
       "      <th>Retirement_Age</th>\n",
       "      <th>Debt_Amount</th>\n",
       "      <th>Monthly_Savings</th>\n",
       "      <th>Loan_Default_Risk</th>\n",
       "    </tr>\n",
       "  </thead>\n",
       "  <tbody>\n",
       "    <tr>\n",
       "      <th>0</th>\n",
       "      <td>60.0</td>\n",
       "      <td>2996.52</td>\n",
       "      <td>2378.49</td>\n",
       "      <td>0</td>\n",
       "    </tr>\n",
       "    <tr>\n",
       "      <th>1</th>\n",
       "      <td>66.4</td>\n",
       "      <td>4137.23</td>\n",
       "      <td>1538.92</td>\n",
       "      <td>1</td>\n",
       "    </tr>\n",
       "    <tr>\n",
       "      <th>2</th>\n",
       "      <td>58.5</td>\n",
       "      <td>19865.75</td>\n",
       "      <td>2434.80</td>\n",
       "      <td>1</td>\n",
       "    </tr>\n",
       "    <tr>\n",
       "      <th>3</th>\n",
       "      <td>49.8</td>\n",
       "      <td>16855.70</td>\n",
       "      <td>2677.82</td>\n",
       "      <td>1</td>\n",
       "    </tr>\n",
       "    <tr>\n",
       "      <th>4</th>\n",
       "      <td>67.3</td>\n",
       "      <td>7902.37</td>\n",
       "      <td>2206.72</td>\n",
       "      <td>0</td>\n",
       "    </tr>\n",
       "  </tbody>\n",
       "</table>\n",
       "</div>"
      ],
      "text/plain": [
       "   Retirement_Age  Debt_Amount  Monthly_Savings  Loan_Default_Risk\n",
       "0            60.0      2996.52          2378.49                  0\n",
       "1            66.4      4137.23          1538.92                  1\n",
       "2            58.5     19865.75          2434.80                  1\n",
       "3            49.8     16855.70          2677.82                  1\n",
       "4            67.3      7902.37          2206.72                  0"
      ]
     },
     "execution_count": 5,
     "metadata": {},
     "output_type": "execute_result"
    }
   ],
   "source": [
    "# Step 2: Load dataset\n",
    "df = pd.read_csv(\"loan_default_risk_dataset.csv\")  # CSV should be avialable in the same working directory\n",
    "df.head()"
   ]
  },
  {
   "cell_type": "code",
   "execution_count": 9,
   "id": "30d83dc4-bd32-4bbe-8709-c2af57765c12",
   "metadata": {},
   "outputs": [
    {
     "name": "stdout",
     "output_type": "stream",
     "text": [
      "Dataset Info:\n",
      "\n",
      "<class 'pandas.core.frame.DataFrame'>\n",
      "RangeIndex: 300 entries, 0 to 299\n",
      "Data columns (total 4 columns):\n",
      " #   Column             Non-Null Count  Dtype  \n",
      "---  ------             --------------  -----  \n",
      " 0   Retirement_Age     300 non-null    float64\n",
      " 1   Debt_Amount        299 non-null    float64\n",
      " 2   Monthly_Savings    298 non-null    float64\n",
      " 3   Loan_Default_Risk  300 non-null    int64  \n",
      "dtypes: float64(3), int64(1)\n",
      "memory usage: 9.5 KB\n",
      "None\n",
      "\n",
      " Missing values:\n",
      "\n",
      "Retirement_Age       0\n",
      "Debt_Amount          1\n",
      "Monthly_Savings      2\n",
      "Loan_Default_Risk    0\n",
      "dtype: int64\n"
     ]
    }
   ],
   "source": [
    "# Step 3: Explore the dataset\n",
    "print(\"Dataset Info:\\n\")\n",
    "print(df.info())\n",
    "\n",
    "print(\"\\n Missing values:\\n\")\n",
    "print(df.isnull().sum())"
   ]
  },
  {
   "cell_type": "code",
   "execution_count": 11,
   "id": "bc8ae337-c3a7-4d2f-879d-fcf8df2381a6",
   "metadata": {},
   "outputs": [
    {
     "data": {
      "image/png": "[encoded data removed]",
      "text/plain": [
       "<Figure size 640x480 with 1 Axes>"
      ]
     },
     "metadata": {},
     "output_type": "display_data"
    }
   ],
   "source": [
    "# Visualize class distribution\n",
    "sns.countplot(x='Loan_Default_Risk', data=df)\n",
    "plt.title(\"Class Distribution\")\n",
    "plt.show()\n"
   ]
  },
  {
   "cell_type": "code",
   "execution_count": 15,
   "id": "f1e53eef-e7a9-475b-8877-e5719d65c903",
   "metadata": {},
   "outputs": [
    {
     "name": "stdout",
     "output_type": "stream",
     "text": [
      "Missing values after imputation:\n",
      "\n",
      "Retirement_Age       0\n",
      "Debt_Amount          0\n",
      "Monthly_Savings      0\n",
      "Loan_Default_Risk    0\n",
      "dtype: int64\n"
     ]
    }
   ],
   "source": [
    "# Step 4: Handle missing values using mean imputation\n",
    "imputer = SimpleImputer(strategy=\"mean\")\n",
    "df.iloc[:, :-1] = imputer.fit_transform(df.iloc[:, :-1]) # Impute all cols except the target col 'Loan_Default_Risk'\n",
    "\n",
    "print(\"Missing values after imputation:\\n\")\n",
    "print(df.isnull().sum())"
   ]
  },
  {
   "cell_type": "code",
   "execution_count": 17,
   "id": "e087231d-9f22-41a1-aeaa-e193e7e0ea84",
   "metadata": {},
   "outputs": [
    {
     "name": "stdout",
     "output_type": "stream",
     "text": [
      "Training samples: 240\n",
      "Testing samples: 60\n"
     ]
    }
   ],
   "source": [
    "# Step 5: Define features and target\n",
    "X = df.drop(\"Loan_Default_Risk\", axis=1)\n",
    "y = df[\"Loan_Default_Risk\"]\n",
    "\n",
    "# Step 6: Train-test split\n",
    "X_train, X_test, y_train, y_test = train_test_split(X, y, test_size=0.2, random_state=42)\n",
    "\n",
    "print(f\"Training samples: {len(X_train)}\")\n",
    "print(f\"Testing samples: {len(X_test)}\")"
   ]
  },
  {
   "cell_type": "code",
   "execution_count": 19,
   "id": "6a4b232c-bcd6-4742-9bf0-693cfacfc47c",
   "metadata": {},
   "outputs": [
    {
     "name": "stdout",
     "output_type": "stream",
     "text": [
      "Model training complete.\n"
     ]
    }
   ],
   "source": [
    "# Step 7: Train the logistic regression model with class_weight='balanced'\n",
    "model = LogisticRegression(class_weight='balanced', max_iter=1000)\n",
    "model.fit(X_train, y_train)\n",
    "\n",
    "print(\"Model training complete.\")"
   ]
  },
  {
   "cell_type": "code",
   "execution_count": 21,
   "id": "b4421637-8a28-4800-ac49-11fc3d209cde",
   "metadata": {},
   "outputs": [
    {
     "name": "stdout",
     "output_type": "stream",
     "text": [
      "\n",
      "Classification Report:\n",
      "\n",
      "              precision    recall  f1-score   support\n",
      "\n",
      "           0       0.97      1.00      0.98        31\n",
      "           1       1.00      0.97      0.98        29\n",
      "\n",
      "    accuracy                           0.98        60\n",
      "   macro avg       0.98      0.98      0.98        60\n",
      "weighted avg       0.98      0.98      0.98        60\n",
      "\n"
     ]
    }
   ],
   "source": [
    "# Step 8: Evaluate the model\n",
    "y_pred = model.predict(X_test)\n",
    "\n",
    "# Classification report\n",
    "print(\"\\nClassification Report:\\n\")\n",
    "print(classification_report(y_test, y_pred))"
   ]
  },
  {
   "cell_type": "code",
   "execution_count": 23,
   "id": "60038913-58d4-450a-bd96-a101b4fd3310",
   "metadata": {},
   "outputs": [
    {
     "data": {
      "text/plain": [
       "\"Excellent performance on both classes.\\n \\tOnly 1 misclassification: one actual defaulter was predicted as non-defaulter.\\n \\tBalanced accuracy and F1-score show the model is reliable for both outcomes.\\n \\tclass_weight='balanced' helped overcome any imbalance issues in the small dataset.\""
      ]
     },
     "execution_count": 23,
     "metadata": {},
     "output_type": "execute_result"
    }
   ],
   "source": [
    "# Insights:\n",
    "\"\"\"Excellent performance on both classes.\n",
    " \tOnly 1 misclassification: one actual defaulter was predicted as non-defaulter.\n",
    " \tBalanced accuracy and F1-score show the model is reliable for both outcomes.\n",
    " \tclass_weight='balanced' helped overcome any imbalance issues in the small dataset.\"\"\""
   ]
  },
  {
   "cell_type": "code",
   "execution_count": 25,
   "id": "e6fd8b23-237b-46db-a084-f23377c8faca",
   "metadata": {},
   "outputs": [
    {
     "data": {
      "image/png": "[encoded data removed]",
      "text/plain": [
       "<Figure size 640x480 with 2 Axes>"
      ]
     },
     "metadata": {},
     "output_type": "display_data"
    }
   ],
   "source": [
    "# Confusion matrix\n",
    "conf_matrix = confusion_matrix(y_test, y_pred)\n",
    "sns.heatmap(conf_matrix, annot=True, fmt='d', cmap='Blues')\n",
    "plt.xlabel(\"Predicted\")\n",
    "plt.ylabel(\"Actual\")\n",
    "plt.title(\"Confusion Matrix\")\n",
    "plt.show()"
   ]
  },
  {
   "cell_type": "code",
   "execution_count": 27,
   "id": "ac1a9715-4fce-4a87-8dc4-68db58b24766",
   "metadata": {},
   "outputs": [],
   "source": [
    "# 31 - True Positives\n",
    "# 28 - True Negatives"
   ]
  },
  {
   "cell_type": "code",
   "execution_count": null,
   "id": "1470cd43-4c0b-460d-add0-d263fdd192d2",
   "metadata": {},
   "outputs": [],
   "source": []
  }
 ],
 "metadata": {
  "kernelspec": {
   "display_name": "Python 3 (ipykernel)",
   "language": "python",
   "name": "python3"
  },
  "language_info": {
   "codemirror_mode": {
    "name": "ipython",
    "version": 3
   },
   "file_extension": ".py",
   "mimetype": "text/x-python",
   "name": "python",
   "nbconvert_exporter": "python",
   "pygments_lexer": "ipython3",
   "version": "3.12.7"
  }
 },
 "nbformat": 4,
 "nbformat_minor": 5
}
