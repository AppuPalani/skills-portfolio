{
 "cells": [
  {
   "cell_type": "markdown",
   "id": "3c2b1465",
   "metadata": {},
   "source": [
    "# 📊 Telecom Churn Analysis - EDA\n",
    "Exploratory Data Analysis on telecom customer churn dataset."
   ]
  },
  {
   "cell_type": "code",
   "execution_count": null,
   "id": "fe1ae00b",
   "metadata": {},
   "outputs": [],
   "source": [
    "import pandas as pd\n",
    "import matplotlib.pyplot as plt\n",
    "import seaborn as sns\n",
    "\n",
    "data = pd.read_csv('WA_Fn-UseC_-Telco-Customer-Churn.csv')\n",
    "data.head()"
   ]
  },
  {
   "cell_type": "markdown",
   "id": "92eb3d3b",
   "metadata": {},
   "source": [
    "### Data Summary"
   ]
  },
  {
   "cell_type": "code",
   "execution_count": null,
   "id": "1f3dcd34",
   "metadata": {},
   "outputs": [],
   "source": [
    "data.info()"
   ]
  },
  {
   "cell_type": "code",
   "execution_count": null,
   "id": "5fa4d782",
   "metadata": {},
   "outputs": [],
   "source": [
    "data.describe()"
   ]
  },
  {
   "cell_type": "markdown",
   "id": "e8272fa0",
   "metadata": {},
   "source": [
    "### Churn Distribution"
   ]
  },
  {
   "cell_type": "code",
   "execution_count": null,
   "id": "0d277efa",
   "metadata": {},
   "outputs": [],
   "source": [
    "sns.countplot(x='Churn', data=data)\n",
    "plt.title('Churn Count')\n",
    "plt.show()"
   ]
  },
  {
   "cell_type": "markdown",
   "id": "6831b09f",
   "metadata": {},
   "source": [
    "### Monthly Charges vs Tenure"
   ]
  },
  {
   "cell_type": "code",
   "execution_count": null,
   "id": "b1ebfe58",
   "metadata": {},
   "outputs": [],
   "source": [
    "sns.scatterplot(data=data, x='tenure', y='MonthlyCharges', hue='Churn')\n",
    "plt.title('Monthly Charges by Tenure')\n",
    "plt.show()"
   ]
  },
  {
   "cell_type": "markdown",
   "id": "df169404",
   "metadata": {},
   "source": [
    "### Correlation Heatmap"
   ]
  },
  {
   "cell_type": "code",
   "execution_count": null,
   "id": "47ae9e7a",
   "metadata": {},
   "outputs": [],
   "source": [
    "sns.heatmap(data.corr(numeric_only=True), annot=True, cmap='Blues')\n",
    "plt.title('Correlation Heatmap')\n",
    "plt.show()"
   ]
  }
 ],
 "metadata": {},
 "nbformat": 4,
 "nbformat_minor": 5
}
